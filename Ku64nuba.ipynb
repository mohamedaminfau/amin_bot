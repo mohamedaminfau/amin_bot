{
 "cells": [
  {
   "cell_type": "code",
   "execution_count": 1,
   "id": "fe3fae12",
   "metadata": {},
   "outputs": [],
   "source": [
    "# pip install dotenv\n",
    "# %pip install pyTelegramBotAPI\n",
    "# %pip install git+https://github.com/huggingface/transformers.git\n",
    "# %pip install accelerate\n"
   ]
  },
  {
   "cell_type": "code",
   "execution_count": 2,
   "id": "288ddf31",
   "metadata": {},
   "outputs": [],
   "source": [
    "import os\n",
    "from dotenv import load_dotenv\n",
    "import telebot\n",
    "import torch\n",
    "from transformers import pipeline"
   ]
  },
  {
   "cell_type": "code",
   "execution_count": 3,
   "id": "6b4033f2",
   "metadata": {},
   "outputs": [],
   "source": [
    "# Access the BOT_TOKEN variable\n",
    "BOT_TOKEN = \"7816728270:AAEdniunAEPJFwlFeFjXWWikYtEOxXh5bSE\"\n",
    "bot = telebot.TeleBot(BOT_TOKEN)"
   ]
  },
  {
   "cell_type": "code",
   "execution_count": 4,
   "id": "50579cd3",
   "metadata": {},
   "outputs": [
    {
     "name": "stderr",
     "output_type": "stream",
     "text": [
      "Device set to use cuda:0\n",
      "2025-01-26 19:33:05,231 (__init__.py:1121 MainThread) ERROR - TeleBot: \"Infinity polling: polling exited\"\n",
      "2025-01-26 19:33:05,234 (__init__.py:1123 MainThread) ERROR - TeleBot: \"Break infinity polling\"\n"
     ]
    }
   ],
   "source": [
    "@bot.message_handler(commands=['start'])\n",
    "def send_welcome(message):\n",
    "    bot.reply_to(message, \"hello, how can i help?\")\n",
    "\n",
    "pipe = pipeline(\n",
    "    \"text-generation\",\n",
    "    model=\"TinyLlama/TinyLlama-1.1B-Chat-v1.0\",\n",
    "    torch_dtype=torch.bfloat16,\n",
    "    device=0 if torch.cuda.is_available() else -1 \n",
    ")\n",
    "\n",
    "@bot.message_handler(func=lambda msg: True)\n",
    "def echo_all(message):\n",
    "    input= [\n",
    "            {\"role\": \"system\", \"content\": \"You are a chatbot who responds in the style of a helper\"},\n",
    "            {\"role\": \"user\", \"content\": message.text},\n",
    "        ]\n",
    "    prompt = pipe.tokenizer.apply_chat_template(\n",
    "        input,\n",
    "        tokenize=False,\n",
    "        add_generation_prompt=True\n",
    "    )\n",
    "    outputs = pipe(prompt, max_new_tokens=256, do_sample=True, temperature=0.7, top_k=50, top_p=0.95)\n",
    "\n",
    "    generated_text = outputs[0][\"generated_text\"]\n",
    "    assistant_response = generated_text[len(prompt):].strip()\n",
    "\n",
    "    bot.reply_to(message, assistant_response)\n",
    "\n",
    "# Run the bot\n",
    "bot.infinity_polling()"
   ]
  }
 ],
 "metadata": {
  "kernelspec": {
   "display_name": "gp",
   "language": "python",
   "name": "python3"
  },
  "language_info": {
   "codemirror_mode": {
    "name": "ipython",
    "version": 3
   },
   "file_extension": ".py",
   "mimetype": "text/x-python",
   "name": "python",
   "nbconvert_exporter": "python",
   "pygments_lexer": "ipython3",
   "version": "3.9.19"
  }
 },
 "nbformat": 4,
 "nbformat_minor": 5
}
